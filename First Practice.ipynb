{
 "cells": [
  {
   "cell_type": "markdown",
   "id": "b42d304d",
   "metadata": {},
   "source": [
    "Variables in Python"
   ]
  },
  {
   "cell_type": "code",
   "execution_count": 9,
   "id": "182c508a",
   "metadata": {
    "scrolled": true
   },
   "outputs": [
    {
     "name": "stdout",
     "output_type": "stream",
     "text": [
      "22\n"
     ]
    },
    {
     "data": {
      "text/plain": [
       "int"
      ]
     },
     "execution_count": 9,
     "metadata": {},
     "output_type": "execute_result"
    }
   ],
   "source": [
    "x = 22\n",
    "print(x)\n",
    "type(x)"
   ]
  },
  {
   "cell_type": "code",
   "execution_count": 13,
   "id": "6cac3f8b",
   "metadata": {},
   "outputs": [
    {
     "name": "stdout",
     "output_type": "stream",
     "text": [
      "Mint Chocolate Chip\n"
     ]
    },
    {
     "data": {
      "text/plain": [
       "str"
      ]
     },
     "execution_count": 13,
     "metadata": {},
     "output_type": "execute_result"
    }
   ],
   "source": [
    "y = 'Mint Chocolate Chip'\n",
    "print(y)\n",
    "type(y)"
   ]
  },
  {
   "cell_type": "code",
   "execution_count": 12,
   "id": "fe68ee65",
   "metadata": {},
   "outputs": [
    {
     "name": "stdout",
     "output_type": "stream",
     "text": [
      "Chocolate\n",
      "Vanilla\n",
      "Rocky Road\n"
     ]
    }
   ],
   "source": [
    "x,y,z = 'Chocolate','Vanilla','Rocky Road'\n",
    "print(x)\n",
    "print(y)\n",
    "print(z)"
   ]
  },
  {
   "cell_type": "code",
   "execution_count": 14,
   "id": "4ff08bf7",
   "metadata": {},
   "outputs": [
    {
     "name": "stdout",
     "output_type": "stream",
     "text": [
      "Root Beer Float\n",
      "Root Beer Float\n",
      "Root Beer Float\n"
     ]
    }
   ],
   "source": [
    "x=y=z = 'Root Beer Float'\n",
    "print(x)\n",
    "print(y)\n",
    "print(z)"
   ]
  },
  {
   "cell_type": "code",
   "execution_count": 17,
   "id": "113c86d4",
   "metadata": {},
   "outputs": [
    {
     "name": "stdout",
     "output_type": "stream",
     "text": [
      "Chocolate\n",
      "Vanilla\n",
      "Rocky Road\n"
     ]
    }
   ],
   "source": [
    "#List\n",
    "ice_cream = ['Chocolate','Vanilla','Rocky Road']\n",
    "x,y,z = ice_cream\n",
    "print(x)\n",
    "print(y)\n",
    "print(z)"
   ]
  },
  {
   "cell_type": "code",
   "execution_count": null,
   "id": "ad4f43fc",
   "metadata": {},
   "outputs": [],
   "source": [
    "#Naming Variables\n",
    "\n",
    "#CamelCase\n",
    "testVariable = 'Start Small'\n",
    "\n",
    "#Pascal Case\n",
    "TestVariable = 'All Big'\n",
    "\n",
    "#Snake Case\n",
    "test_variable = 'Use Underscore'"
   ]
  },
  {
   "cell_type": "code",
   "execution_count": 5,
   "id": "313edc32",
   "metadata": {},
   "outputs": [
    {
     "name": "stdout",
     "output_type": "stream",
     "text": [
      "I love you\n",
      "Icecreamshit\n"
     ]
    }
   ],
   "source": [
    "#String Concatenation\n",
    "x = 'I love' + ' you'\n",
    "print(x)\n",
    "\n",
    "k = 'Icecream'\n",
    "l = 'shit'\n",
    "print(k + l)"
   ]
  },
  {
   "cell_type": "code",
   "execution_count": 3,
   "id": "e2a92e15",
   "metadata": {},
   "outputs": [
    {
     "name": "stdout",
     "output_type": "stream",
     "text": [
      "6\n"
     ]
    }
   ],
   "source": [
    "#Interger concatenation\n",
    "y = 3 + 3\n",
    "print(y)"
   ]
  },
  {
   "cell_type": "markdown",
   "id": "c5ebbd1a",
   "metadata": {},
   "source": [
    "Data Types in Python"
   ]
  },
  {
   "cell_type": "code",
   "execution_count": 9,
   "id": "98f01234",
   "metadata": {},
   "outputs": [
    {
     "data": {
      "text/plain": [
       "int"
      ]
     },
     "execution_count": 9,
     "metadata": {},
     "output_type": "execute_result"
    }
   ],
   "source": [
    "type(12)"
   ]
  },
  {
   "cell_type": "code",
   "execution_count": 7,
   "id": "5e3ea118",
   "metadata": {},
   "outputs": [
    {
     "data": {
      "text/plain": [
       "float"
      ]
     },
     "execution_count": 7,
     "metadata": {},
     "output_type": "execute_result"
    }
   ],
   "source": [
    "type(12+10.25)"
   ]
  },
  {
   "cell_type": "code",
   "execution_count": 11,
   "id": "0027c1b3",
   "metadata": {},
   "outputs": [
    {
     "data": {
      "text/plain": [
       "complex"
      ]
     },
     "execution_count": 11,
     "metadata": {},
     "output_type": "execute_result"
    }
   ],
   "source": [
    "type(11+3j)"
   ]
  },
  {
   "cell_type": "code",
   "execution_count": 18,
   "id": "de9aaa41",
   "metadata": {},
   "outputs": [
    {
     "data": {
      "text/plain": [
       "False"
      ]
     },
     "execution_count": 18,
     "metadata": {},
     "output_type": "execute_result"
    }
   ],
   "source": [
    "#Boolean\n",
    "type(True)\n",
    "type(1>5)\n",
    "1>5"
   ]
  },
  {
   "cell_type": "code",
   "execution_count": 22,
   "id": "dd4f9a8f",
   "metadata": {},
   "outputs": [
    {
     "name": "stdout",
     "output_type": "stream",
     "text": [
      "\n",
      "Multiline\n",
      "This is so sad\n",
      "Look at it\n",
      "\n"
     ]
    }
   ],
   "source": [
    "#String\n",
    "single = 'Single quote'\n",
    "double = \"Double Quote\"\n",
    "multiline = \"\"\"\n",
    "Multiline\n",
    "This is so sad\n",
    "Look at it\n",
    "\"\"\"\n",
    "print(multiline)"
   ]
  },
  {
   "cell_type": "code",
   "execution_count": 27,
   "id": "57df7963",
   "metadata": {},
   "outputs": [
    {
     "name": "stdout",
     "output_type": "stream",
     "text": [
      "Hello\n",
      "lo W\n"
     ]
    }
   ],
   "source": [
    "#Indexing strings\n",
    "a = \"Hello World\"\n",
    "print(a[:5])\n",
    "print(a[3:7])"
   ]
  },
  {
   "cell_type": "code",
   "execution_count": 31,
   "id": "16108ce4",
   "metadata": {},
   "outputs": [
    {
     "name": "stdout",
     "output_type": "stream",
     "text": [
      "[1, 2, 3, 4, 5]\n",
      "['name', 'her', 'short']\n",
      "['vanilla', 3, ['spoon', 'scoop'], True]\n"
     ]
    }
   ],
   "source": [
    "#Lists\n",
    "interg_list = [1,2,3,4,5]\n",
    "string_list = ['name', 'her', 'short']\n",
    "mixed_data_list = ['vanilla', 3, ['spoon', 'scoop'], True]\n",
    "print(interg_list)\n",
    "print(string_list)\n",
    "print(mixed_data_list)"
   ]
  },
  {
   "cell_type": "code",
   "execution_count": 34,
   "id": "927e4445",
   "metadata": {},
   "outputs": [
    {
     "name": "stdout",
     "output_type": "stream",
     "text": [
      "(1, 2, 3, 4, 5)\n"
     ]
    },
    {
     "data": {
      "text/plain": [
       "4"
      ]
     },
     "execution_count": 34,
     "metadata": {},
     "output_type": "execute_result"
    }
   ],
   "source": [
    "#Tuples - can not modified after creation\n",
    "tuple_scoops = (1,2,3,4,5)\n",
    "print(tuple_scoops)\n",
    "tuple_scoops[3]\n"
   ]
  },
  {
   "cell_type": "code",
   "execution_count": 42,
   "id": "061b5b47",
   "metadata": {},
   "outputs": [
    {
     "name": "stdout",
     "output_type": "stream",
     "text": [
      "{1, 2, 3}\n",
      "{1, 2, 3, 4}\n",
      "{1, 2, 3, 4, 5, 7, 8, 9, 14, 78, 54}\n",
      "{1, 3}\n"
     ]
    }
   ],
   "source": [
    "#Sets -  no duplicate elements,\n",
    "#     -  values cannot be accessed using an index\n",
    "\n",
    "daily_pints = {1,2,3}\n",
    "print(daily_pints)\n",
    "\n",
    "daily_pints_duplicates = {1,2,3,4,1,2,3,4,1,2,3,4}\n",
    "print(daily_pints_duplicates)\n",
    "\n",
    "wife_daily_log = {14,1,3,4,5,7,8,9,78,54}\n",
    "#view unique values from two sets\n",
    "print(wife_daily_log | daily_pints)\n",
    "\n",
    "#view values that show up in both sets\n",
    "print(wife_daily_log & daily_pints)"
   ]
  },
  {
   "cell_type": "code",
   "execution_count": 45,
   "id": "662f8e91",
   "metadata": {},
   "outputs": [
    {
     "name": "stdout",
     "output_type": "stream",
     "text": [
      "{'name': 'alex', 'weekly intake': 5, 'favorite ice creams': ['MCC', 'Chocolate']}\n"
     ]
    }
   ],
   "source": [
    "#Dictionaries\n",
    "#Key/Value Pair\n",
    "\n",
    "dictionary_cream = {'name':'alex', 'weekly intake':5, 'favorite ice creams': ['MCC', 'Chocolate']}\n",
    "type(dictionary_cream)\n",
    "print(dictionary_cream)\n"
   ]
  },
  {
   "cell_type": "code",
   "execution_count": 51,
   "id": "82a91a39",
   "metadata": {},
   "outputs": [
    {
     "data": {
      "text/plain": [
       "dict_values(['alex', 5, ['MCC', 'Chocolate']])"
      ]
     },
     "execution_count": 51,
     "metadata": {},
     "output_type": "execute_result"
    }
   ],
   "source": [
    "#Dictionary Continued...\n",
    "dictionary_cream.values()"
   ]
  },
  {
   "cell_type": "code",
   "execution_count": 50,
   "id": "4eab963a",
   "metadata": {},
   "outputs": [
    {
     "data": {
      "text/plain": [
       "dict_keys(['name', 'weekly intake', 'favorite ice creams'])"
      ]
     },
     "execution_count": 50,
     "metadata": {},
     "output_type": "execute_result"
    }
   ],
   "source": [
    "#Dictionary Continued...\n",
    "dictionary_cream.keys()"
   ]
  },
  {
   "cell_type": "code",
   "execution_count": 52,
   "id": "5b028ab1",
   "metadata": {},
   "outputs": [
    {
     "data": {
      "text/plain": [
       "dict_items([('name', 'alex'), ('weekly intake', 5), ('favorite ice creams', ['MCC', 'Chocolate'])])"
      ]
     },
     "execution_count": 52,
     "metadata": {},
     "output_type": "execute_result"
    }
   ],
   "source": [
    "#Dictionary Continued...\n",
    "dictionary_cream.items()"
   ]
  },
  {
   "cell_type": "code",
   "execution_count": 53,
   "id": "467a5dd1",
   "metadata": {},
   "outputs": [
    {
     "name": "stdout",
     "output_type": "stream",
     "text": [
      "{'name': 'Tinotenda Muchenje', 'weekly intake': 5, 'favorite ice creams': ['MCC', 'Chocolate']}\n"
     ]
    }
   ],
   "source": [
    "#Dictionary allows you to update\n",
    "#Dictionary Continued...\n",
    "dictionary_cream['name'] = 'Tinotenda Muchenje'\n",
    "print(dictionary_cream)"
   ]
  },
  {
   "cell_type": "markdown",
   "id": "d721a4e8",
   "metadata": {},
   "source": [
    "Comparison, Logical and Membership Operators"
   ]
  },
  {
   "cell_type": "code",
   "execution_count": 61,
   "id": "058c3924",
   "metadata": {},
   "outputs": [
    {
     "name": "stdout",
     "output_type": "stream",
     "text": [
      "True\n",
      "False\n",
      "False\n",
      "True\n",
      "False\n"
     ]
    }
   ],
   "source": [
    "#Equal ==\n",
    "print(10 == 10)\n",
    "print(10 == 30)\n",
    "print(10 != 10)\n",
    "print(10 != 30)\n",
    "\n",
    "x = 'vanilla'\n",
    "y = 'chocolate'\n",
    "print(x==y)\n"
   ]
  },
  {
   "cell_type": "code",
   "execution_count": 64,
   "id": "c4f51109",
   "metadata": {},
   "outputs": [
    {
     "name": "stdout",
     "output_type": "stream",
     "text": [
      "True\n",
      "False\n"
     ]
    }
   ],
   "source": [
    "#less than , greater than\n",
    "print(10>=10)\n",
    "print(10>=50)"
   ]
  },
  {
   "cell_type": "code",
   "execution_count": 67,
   "id": "3cab49b1",
   "metadata": {},
   "outputs": [
    {
     "name": "stdout",
     "output_type": "stream",
     "text": [
      "False\n",
      "True\n"
     ]
    }
   ],
   "source": [
    "#Logical operators\n",
    "\n",
    "print((10>50) and (50>10))\n",
    "print((10>50) or (50>10))\n"
   ]
  },
  {
   "cell_type": "code",
   "execution_count": 72,
   "id": "a785b150",
   "metadata": {},
   "outputs": [
    {
     "name": "stdout",
     "output_type": "stream",
     "text": [
      "True\n",
      "False\n",
      "True\n",
      "False\n"
     ]
    }
   ],
   "source": [
    "#Membership operators - used to check if something is\n",
    "# within another value / sequence\n",
    "ice_cream = 'I love chocolate ice cream'\n",
    "print('love' in 'I love chocolate ice cream')\n",
    "print('ice' not in 'I love chocolate ice cream')\n",
    "\n",
    "scoops = [1,2,3,4,5,6]\n",
    "print(3 in scoops)\n",
    "print(2 not in scoops)\n"
   ]
  },
  {
   "cell_type": "code",
   "execution_count": 75,
   "id": "f66a167f",
   "metadata": {},
   "outputs": [
    {
     "name": "stdout",
     "output_type": "stream",
     "text": [
      "Elif worked\n"
     ]
    }
   ],
   "source": [
    "#If-Elif-Else Statements\n",
    "if 25 < 10:\n",
    "    print('It worked!')\n",
    "elif 25 < 30:\n",
    "    print('Elif worked')\n",
    "else:\n",
    "    print(\"It didn't work...\")"
   ]
  },
  {
   "cell_type": "code",
   "execution_count": 76,
   "id": "649d0575",
   "metadata": {
    "scrolled": true
   },
   "outputs": [
    {
     "name": "stdout",
     "output_type": "stream",
     "text": [
      "1\n",
      "2\n",
      "3\n",
      "4\n",
      "5\n"
     ]
    }
   ],
   "source": [
    "#For loops\n",
    "intergers = [1,2,3,4,5]\n",
    "for number in intergers:\n",
    "    print(number)"
   ]
  },
  {
   "cell_type": "code",
   "execution_count": 77,
   "id": "ddb95f91",
   "metadata": {},
   "outputs": [
    {
     "name": "stdout",
     "output_type": "stream",
     "text": [
      "yep!\n",
      "yep!\n",
      "yep!\n",
      "yep!\n",
      "yep!\n"
     ]
    }
   ],
   "source": [
    "#For loops continued...\n",
    "intergers = [1,2,3,4,5]\n",
    "for number in intergers:\n",
    "    print('yep!')"
   ]
  },
  {
   "cell_type": "code",
   "execution_count": 78,
   "id": "6bd91527",
   "metadata": {},
   "outputs": [
    {
     "name": "stdout",
     "output_type": "stream",
     "text": [
      "2\n",
      "4\n",
      "6\n",
      "8\n",
      "10\n"
     ]
    }
   ],
   "source": [
    "#For loops continued...\n",
    "intergers = [1,2,3,4,5]\n",
    "for number in intergers:\n",
    "    print(number + number)"
   ]
  },
  {
   "cell_type": "code",
   "execution_count": 80,
   "id": "a5430818",
   "metadata": {},
   "outputs": [
    {
     "name": "stdout",
     "output_type": "stream",
     "text": [
      "alex\n",
      "5\n",
      "['MCC', 'Chocolate']\n"
     ]
    }
   ],
   "source": [
    "#For loops continued...\n",
    "ice_cream_dict = {'name':'alex', 'weekly intake':5, 'favorite ice creams': ['MCC', 'Chocolate']}\n",
    "for cream in ice_cream_dict.values():\n",
    "    print(cream)"
   ]
  },
  {
   "cell_type": "code",
   "execution_count": 84,
   "id": "72c70a6b",
   "metadata": {},
   "outputs": [
    {
     "name": "stdout",
     "output_type": "stream",
     "text": [
      "name -> alex\n",
      "weekly intake -> 5\n",
      "favorite ice creams -> ['MCC', 'Chocolate']\n"
     ]
    }
   ],
   "source": [
    "#For loops continued...\n",
    "ice_cream_dict = {'name':'alex', 'weekly intake':5, 'favorite ice creams': ['MCC', 'Chocolate']}\n",
    "for key,value in ice_cream_dict.items():\n",
    "    print(key, '->', value)"
   ]
  },
  {
   "cell_type": "code",
   "execution_count": 88,
   "id": "3899fa85",
   "metadata": {},
   "outputs": [
    {
     "name": "stdout",
     "output_type": "stream",
     "text": [
      "Vanilla topped with Hot Fudge\n",
      "Vanilla topped with Marshmallows\n",
      "Vanilla topped with Oreos\n",
      "Chocolate topped with Hot Fudge\n",
      "Chocolate topped with Marshmallows\n",
      "Chocolate topped with Oreos\n",
      "Strawberry topped with Hot Fudge\n",
      "Strawberry topped with Marshmallows\n",
      "Strawberry topped with Oreos\n"
     ]
    }
   ],
   "source": [
    "#Nested for Loop\n",
    "flavours = ['Vanilla', 'Chocolate', 'Strawberry']\n",
    "toppings = ['Hot Fudge', 'Marshmallows', 'Oreos']\n",
    "\n",
    "for one in flavours:\n",
    "    for two in toppings:\n",
    "        print(one, 'topped with', two)"
   ]
  },
  {
   "cell_type": "code",
   "execution_count": 90,
   "id": "7b84692b",
   "metadata": {},
   "outputs": [
    {
     "name": "stdout",
     "output_type": "stream",
     "text": [
      "0\n",
      "1\n",
      "2\n",
      "3\n",
      "4\n"
     ]
    }
   ],
   "source": [
    "#While loops\n",
    "number = 0\n",
    "while number < 5:\n",
    "    print(number)\n",
    "    number = number + 1"
   ]
  },
  {
   "cell_type": "code",
   "execution_count": 94,
   "id": "b4482882",
   "metadata": {},
   "outputs": [
    {
     "name": "stdout",
     "output_type": "stream",
     "text": [
      "0\n",
      "1\n",
      "2\n",
      "3\n"
     ]
    }
   ],
   "source": [
    "#while loop + break statement\n",
    "number = 0\n",
    "while number < 5:\n",
    "    print(number)\n",
    "    if number == 3:\n",
    "        break\n",
    "    number = number + 1"
   ]
  },
  {
   "cell_type": "code",
   "execution_count": 98,
   "id": "b11c83aa",
   "metadata": {},
   "outputs": [
    {
     "name": "stdout",
     "output_type": "stream",
     "text": [
      "0\n",
      "1\n",
      "2\n",
      "3\n",
      "4\n",
      "Nolonger < 5\n"
     ]
    }
   ],
   "source": [
    "#while loop + else statement\n",
    "number = 0\n",
    "while number < 5:\n",
    "    print(number)\n",
    "    if number == 6:\n",
    "        break\n",
    "    number = number + 1\n",
    "else:\n",
    "    print('Nolonger < 5')"
   ]
  },
  {
   "cell_type": "code",
   "execution_count": 101,
   "id": "ac941ab0",
   "metadata": {},
   "outputs": [
    {
     "name": "stdout",
     "output_type": "stream",
     "text": [
      "1\n",
      "2\n",
      "4\n",
      "5\n",
      "No longer < 5\n"
     ]
    }
   ],
   "source": [
    "#while loop + continue\n",
    "number = 0\n",
    "while number < 5:\n",
    "    number = number + 1\n",
    "    if number == 3:\n",
    "        continue\n",
    "    print(number)\n",
    "else:\n",
    "    print('No longer < 5')\n",
    "    "
   ]
  },
  {
   "cell_type": "code",
   "execution_count": 105,
   "id": "27b07e49",
   "metadata": {},
   "outputs": [
    {
     "name": "stdout",
     "output_type": "stream",
     "text": [
      "My first function\n"
     ]
    }
   ],
   "source": [
    "#Funtions\n",
    "def my_function():\n",
    "    print('My first function')\n",
    "    \n",
    "my_function()"
   ]
  },
  {
   "cell_type": "code",
   "execution_count": 106,
   "id": "1d8d7308",
   "metadata": {},
   "outputs": [
    {
     "name": "stdout",
     "output_type": "stream",
     "text": [
      "25\n"
     ]
    }
   ],
   "source": [
    "#functions continued...\n",
    "def number_squared(number):\n",
    "    print(number**2)\n",
    "    \n",
    "number_squared(5)"
   ]
  },
  {
   "cell_type": "code",
   "execution_count": 109,
   "id": "accf3b2b",
   "metadata": {},
   "outputs": [
    {
     "name": "stdout",
     "output_type": "stream",
     "text": [
      "125\n"
     ]
    }
   ],
   "source": [
    "def number_squared_cust(number,power):\n",
    "    print(number**power)\n",
    "    \n",
    "number_squared_cust(5,3)"
   ]
  },
  {
   "cell_type": "code",
   "execution_count": 112,
   "id": "4497357d",
   "metadata": {},
   "outputs": [
    {
     "name": "stdout",
     "output_type": "stream",
     "text": [
      "30\n"
     ]
    }
   ],
   "source": [
    "#arbitrary arguements\n",
    "def number_args(*number):\n",
    "    print(number[0]*number[1])\n",
    "    \n",
    "number_args(5,6,1,2,8)"
   ]
  },
  {
   "cell_type": "code",
   "execution_count": 115,
   "id": "822bd58f",
   "metadata": {},
   "outputs": [
    {
     "name": "stdout",
     "output_type": "stream",
     "text": [
      "14\n"
     ]
    }
   ],
   "source": [
    "#converting data types\n",
    "\n",
    "num_int = 7\n",
    "num_str = '7'\n",
    "num_str_conv = int(num_str)\n",
    "\n",
    "print(num_int + num_str_conv)"
   ]
  },
  {
   "cell_type": "code",
   "execution_count": null,
   "id": "cf749446",
   "metadata": {},
   "outputs": [],
   "source": []
  },
  {
   "cell_type": "code",
   "execution_count": null,
   "id": "624fd717",
   "metadata": {},
   "outputs": [],
   "source": []
  },
  {
   "cell_type": "code",
   "execution_count": null,
   "id": "b8466929",
   "metadata": {},
   "outputs": [],
   "source": []
  },
  {
   "cell_type": "code",
   "execution_count": null,
   "id": "69d61b63",
   "metadata": {},
   "outputs": [],
   "source": []
  },
  {
   "cell_type": "code",
   "execution_count": null,
   "id": "4458bdc6",
   "metadata": {},
   "outputs": [],
   "source": []
  },
  {
   "cell_type": "code",
   "execution_count": null,
   "id": "1b5064e6",
   "metadata": {},
   "outputs": [],
   "source": []
  },
  {
   "cell_type": "code",
   "execution_count": null,
   "id": "57e4424f",
   "metadata": {},
   "outputs": [],
   "source": []
  },
  {
   "cell_type": "code",
   "execution_count": null,
   "id": "a26fd5d0",
   "metadata": {},
   "outputs": [],
   "source": []
  },
  {
   "cell_type": "code",
   "execution_count": null,
   "id": "b30b5d67",
   "metadata": {},
   "outputs": [],
   "source": []
  },
  {
   "cell_type": "code",
   "execution_count": null,
   "id": "4b7e061b",
   "metadata": {},
   "outputs": [],
   "source": []
  },
  {
   "cell_type": "code",
   "execution_count": null,
   "id": "613d948a",
   "metadata": {},
   "outputs": [],
   "source": []
  },
  {
   "cell_type": "code",
   "execution_count": null,
   "id": "7a28bda8",
   "metadata": {},
   "outputs": [],
   "source": []
  },
  {
   "cell_type": "code",
   "execution_count": null,
   "id": "4296e5f8",
   "metadata": {},
   "outputs": [],
   "source": []
  },
  {
   "cell_type": "code",
   "execution_count": null,
   "id": "48bf166e",
   "metadata": {},
   "outputs": [],
   "source": []
  },
  {
   "cell_type": "code",
   "execution_count": null,
   "id": "32b8830f",
   "metadata": {},
   "outputs": [],
   "source": []
  },
  {
   "cell_type": "code",
   "execution_count": null,
   "id": "cf4bcc4f",
   "metadata": {},
   "outputs": [],
   "source": []
  },
  {
   "cell_type": "code",
   "execution_count": null,
   "id": "b71348a8",
   "metadata": {},
   "outputs": [],
   "source": []
  }
 ],
 "metadata": {
  "kernelspec": {
   "display_name": "Python 3 (ipykernel)",
   "language": "python",
   "name": "python3"
  },
  "language_info": {
   "codemirror_mode": {
    "name": "ipython",
    "version": 3
   },
   "file_extension": ".py",
   "mimetype": "text/x-python",
   "name": "python",
   "nbconvert_exporter": "python",
   "pygments_lexer": "ipython3",
   "version": "3.11.5"
  }
 },
 "nbformat": 4,
 "nbformat_minor": 5
}
