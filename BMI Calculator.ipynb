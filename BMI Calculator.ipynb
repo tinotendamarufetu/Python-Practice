{
 "cells": [
  {
   "cell_type": "code",
   "execution_count": null,
   "id": "daceb58b",
   "metadata": {},
   "outputs": [],
   "source": [
    "#BMI Calculation = (weight in pounds * 70) / (height in inches * height in inches)"
   ]
  },
  {
   "cell_type": "code",
   "execution_count": 24,
   "id": "e8473713",
   "metadata": {},
   "outputs": [
    {
     "name": "stdout",
     "output_type": "stream",
     "text": [
      "Enter your name: TINOTENDA\n",
      "Enter your weight in pounds: 140\n",
      "Enter your height in inches: 70\n",
      "\n",
      " Your BMI is :20.085714285714285\n",
      "\n",
      "TINOTENDA, You are normal weight\n"
     ]
    }
   ],
   "source": [
    "name = input('Enter your name: ')\n",
    "weight = int(input(\"Enter your weight in pounds: \"))\n",
    "height = int(input(\"Enter your height in inches: \"))\n",
    "BMI = (weight * 703) / (height * height)\n",
    "print(\"\\n Your BMI is :\" + str(BMI))\n",
    "\n",
    "if BMI > 0:\n",
    "    if BMI < 18.5:\n",
    "        print(\"\\n\"+name +', You are underweight')\n",
    "    elif BMI <= 24.9:\n",
    "        print(\"\\n\"+name +', You are normal weight')\n",
    "    elif BMI <= 29.9:\n",
    "        print(\"\\n\"+name +', You are over weight')\n",
    "    elif BMI <= 34.9:\n",
    "        print(\"\\n\"+name +', You are obese')\n",
    "    elif BMI <= 39.9:\n",
    "        print(\"\\n\"+name +', You are severly obese')\n",
    "    else:\n",
    "        print(\"\\n\"+name +', You are extremely obese')\n",
    "else:\n",
    "    print('Enter valid input...')"
   ]
  },
  {
   "cell_type": "code",
   "execution_count": null,
   "id": "7b800c8a",
   "metadata": {},
   "outputs": [],
   "source": []
  },
  {
   "cell_type": "code",
   "execution_count": null,
   "id": "3f20f89f",
   "metadata": {},
   "outputs": [],
   "source": []
  },
  {
   "cell_type": "code",
   "execution_count": null,
   "id": "cd761f26",
   "metadata": {},
   "outputs": [],
   "source": []
  },
  {
   "cell_type": "code",
   "execution_count": null,
   "id": "bce8749d",
   "metadata": {},
   "outputs": [],
   "source": []
  }
 ],
 "metadata": {
  "kernelspec": {
   "display_name": "Python 3 (ipykernel)",
   "language": "python",
   "name": "python3"
  },
  "language_info": {
   "codemirror_mode": {
    "name": "ipython",
    "version": 3
   },
   "file_extension": ".py",
   "mimetype": "text/x-python",
   "name": "python",
   "nbconvert_exporter": "python",
   "pygments_lexer": "ipython3",
   "version": "3.11.5"
  }
 },
 "nbformat": 4,
 "nbformat_minor": 5
}
